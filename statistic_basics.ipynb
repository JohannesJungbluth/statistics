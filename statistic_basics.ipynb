{
 "cells": [
  {
   "cell_type": "markdown",
   "metadata": {},
   "source": [
    "# Interquartile Range\n",
    "\n",
    "The interquartile range is a measure of where the “middle fifty” is in a data set. Where a range is a measure of where the beginning and end are in a set, an interquartile range is a measure of where the bulk of the values lie. That’s why it’s preferred over many other measures of spread (i.e. the average or median) when reporting things like school performance or SAT scores.\n",
    "\n",
    "The interquartile range formula is the first quartile subtracted from the third quartile:\n",
    "IQR = Q3 – Q1"
   ]
  },
  {
   "cell_type": "code",
   "execution_count": 38,
   "metadata": {},
   "outputs": [
    {
     "data": {
      "text/plain": [
       "[1, 2, 5, 6, 7, 9, 12, 15, 18, 19, 27]"
      ]
     },
     "execution_count": 38,
     "metadata": {},
     "output_type": "execute_result"
    }
   ],
   "source": [
    "numbers_ir = [1, 2, 5, 6, 7, 9, 12, 15, 18, 19, 27]\n",
    "numbers_ir.sort()\n",
    "numbers_ir"
   ]
  },
  {
   "cell_type": "code",
   "execution_count": 34,
   "metadata": {},
   "outputs": [
    {
     "name": "stdout",
     "output_type": "stream",
     "text": [
      "Median: 9\n"
     ]
    }
   ],
   "source": [
    "# 1) find median\n",
    "median_index = int(len(numbers_ir) / 2)\n",
    "median = numbers_ir[median_index]\n",
    "print(f\"Median: {median}\")"
   ]
  },
  {
   "cell_type": "code",
   "execution_count": 35,
   "metadata": {},
   "outputs": [
    {
     "name": "stdout",
     "output_type": "stream",
     "text": [
      "Q1: 5\n"
     ]
    }
   ],
   "source": [
    "# 2) find Q1 - as a median in the lower half of the data\n",
    "Q1_index = int(len(numbers_ir[:median_index]) / 2)\n",
    "Q1 = numbers_ir[Q1_index]\n",
    "print(f\"Q1: {Q1}\")"
   ]
  },
  {
   "cell_type": "code",
   "execution_count": 36,
   "metadata": {},
   "outputs": [
    {
     "name": "stdout",
     "output_type": "stream",
     "text": [
      "Q3: 18\n"
     ]
    }
   ],
   "source": [
    "# 3) find Q3 - as a median for the upper half of data\n",
    "Q3_index = median_index + int(len(numbers_ir[median_index:]) / 2)\n",
    "Q3 = numbers_ir[Q3_index]\n",
    "print(f\"Q3: {Q3}\")"
   ]
  },
  {
   "cell_type": "code",
   "execution_count": 37,
   "metadata": {},
   "outputs": [
    {
     "name": "stdout",
     "output_type": "stream",
     "text": [
      "interquartile_range: 18\n"
     ]
    }
   ],
   "source": [
    "# 3) calculate interquartile range\n",
    "interquartile_range = Q3 - Q1\n",
    "print(f\"interquartile_range: {Q3}\")"
   ]
  },
  {
   "cell_type": "markdown",
   "metadata": {},
   "source": [
    "# Range\n",
    "In statistics, the range is a measure of spread: it’s the difference between the highest value and the lowest value in a data set."
   ]
  },
  {
   "cell_type": "code",
   "execution_count": 39,
   "metadata": {},
   "outputs": [
    {
     "data": {
      "text/plain": [
       "[7, 10, 21, 33, 43, 45, 45, 65, 67, 87, 98, 99]"
      ]
     },
     "execution_count": 39,
     "metadata": {},
     "output_type": "execute_result"
    }
   ],
   "source": [
    "numbers_range = [7, 10, 21, 33, 43, 45, 45, 65, 67, 87, 98, 99]\n",
    "numbers_range.sort()\n",
    "numbers_range"
   ]
  },
  {
   "cell_type": "code",
   "execution_count": 40,
   "metadata": {},
   "outputs": [
    {
     "name": "stdout",
     "output_type": "stream",
     "text": [
      "range: 92\n"
     ]
    }
   ],
   "source": [
    "range_res = numbers_range[-1] - numbers_range[0]\n",
    "print(f\"range: {range_res}\")"
   ]
  },
  {
   "cell_type": "markdown",
   "metadata": {},
   "source": [
    "# Five-Number Summary\n",
    "The five number summary includes 5 items:\n",
    "* The minimum.\n",
    "* Q1 (the first quartile, or the 25% mark).\n",
    "* The median.\n",
    "* Q3 (the third quartile, or the 75% mark).\n",
    "* The maximum.\n",
    "\n",
    "The five number summary gives you a rough idea about what your data set looks like. for example, you’ll have your lowest value (the minimum) and the highest value (the maximum). Although it’s useful in itself, the main reason you’ll want to find a five-number summary is to find more useful statistics, like the interquartile range, sometimes called the middle fifty."
   ]
  },
  {
   "cell_type": "markdown",
   "metadata": {},
   "source": [
    "# Sampling Error Margin of Error\n",
    "Errors happen when you take a sample from the population rather than using the entire population. In other words, it’s the difference between the statistic you measure and the parameter you would find if you took a census of the entire population.\n",
    "\n",
    "If you were to survey the entire population (like the US Census), there would be no error. It’s nearly impossible to calculate the error margin. However, when you take samples at random, you estimate the error and call it the margin of error.\n",
    "\n",
    "Formula: the formula for the margin of error is 1/√n, where n is the size of the sample. For example, a random sample of 1,000 has about a 1/√n; = 3.2% error."
   ]
  },
  {
   "cell_type": "markdown",
   "metadata": {},
   "source": [
    "# Variance\n",
    "In probability theory and statistics, variance is the expectation of the squared deviation of a random variable from its mean. Informally, it measures how far a set of (random) numbers are spread out from their average value."
   ]
  },
  {
   "cell_type": "code",
   "execution_count": 22,
   "metadata": {},
   "outputs": [],
   "source": [
    "population = [2, 4, 4, 4, 5, 5, 7, 9]"
   ]
  },
  {
   "cell_type": "code",
   "execution_count": 23,
   "metadata": {},
   "outputs": [
    {
     "name": "stdout",
     "output_type": "stream",
     "text": [
      "mean: 5.0\n"
     ]
    }
   ],
   "source": [
    "# 1) calc mean\n",
    "mean = sum(i for i in population) / len(population)\n",
    "print(f\"mean: {mean}\")"
   ]
  },
  {
   "cell_type": "code",
   "execution_count": 24,
   "metadata": {},
   "outputs": [
    {
     "name": "stdout",
     "output_type": "stream",
     "text": [
      "variance: 4.0\n"
     ]
    }
   ],
   "source": [
    "# 2) calc variance - mean of devations from origin mean\n",
    "deviations_mean_var = [(i - mean_var) ** 2 for i in population_var]\n",
    "variance = sum(i for i in deviations_mean_var) / len(deviations_mean_var)\n",
    "print(f\"variance: {variance}\")"
   ]
  },
  {
   "cell_type": "markdown",
   "metadata": {},
   "source": [
    "# Standard deviation\n",
    "In statistics, the standard deviation (SD, also represented by the lower case Greek letter sigma σ for the population standard deviation or the Latin letter s for the sample standard deviation) is a measure of the amount of variation or dispersion of a set of values. A low standard deviation indicates that the values tend to be close to the mean (also called the expected value) of the set, while a high standard deviation indicates that the values are spread out over a wider range."
   ]
  },
  {
   "cell_type": "code",
   "execution_count": 25,
   "metadata": {},
   "outputs": [
    {
     "name": "stdout",
     "output_type": "stream",
     "text": [
      "std_dev: 2.0\n"
     ]
    }
   ],
   "source": [
    "# calc standard deviation - square root of variance\n",
    "std_dev = variance ** 0.5\n",
    "print(f\"std_dev: {std_dev}\")"
   ]
  }
 ],
 "metadata": {
  "kernelspec": {
   "display_name": "Python 3",
   "language": "python",
   "name": "python3"
  },
  "language_info": {
   "codemirror_mode": {
    "name": "ipython",
    "version": 3
   },
   "file_extension": ".py",
   "mimetype": "text/x-python",
   "name": "python",
   "nbconvert_exporter": "python",
   "pygments_lexer": "ipython3",
   "version": "3.7.5"
  }
 },
 "nbformat": 4,
 "nbformat_minor": 4
}
